{
  "cells": [
    {
      "cell_type": "markdown",
      "metadata": {
        "id": "view-in-github",
        "colab_type": "text"
      },
      "source": [
        "<a href=\"https://colab.research.google.com/github/adityajaiswal37/BookMySlot-Web-Application/blob/main/GROUP_46.ipynb\" target=\"_parent\"><img src=\"https://colab.research.google.com/assets/colab-badge.svg\" alt=\"Open In Colab\"/></a>"
      ]
    },
    {
      "cell_type": "markdown",
      "metadata": {
        "id": "HWkgek5XDarE"
      },
      "source": [
        "\n",
        "\n",
        "---WATER LEVEL PREDICITION FOR EPICS---\n",
        "\n"
      ]
    },
    {
      "cell_type": "code",
      "execution_count": null,
      "metadata": {
        "id": "vUSgHcbLCZyP"
      },
      "outputs": [],
      "source": [
        "import numpy as np\n",
        "import pandas as pdpd\n",
        "from keras.models import Sequential\n",
        "from keras.layers import Dense, Dropout\n",
        "from sklearn.preprocessing import MinMaxScaler"
      ]
    },
    {
      "cell_type": "markdown",
      "metadata": {
        "id": "4OiTCSmtDibU"
      },
      "source": [
        "Load data"
      ]
    },
    {
      "cell_type": "code",
      "execution_count": null,
      "metadata": {
        "id": "Np2pKJfYCm61"
      },
      "outputs": [],
      "source": [
        "data = pd.read_csv('waterlevels.csv')\n",
        "X = data.drop(['Water Level'], axis=1)\n",
        "y = data['Water Level'].values.reshape(-1, 1)\n",
        "evap = data['Evaporation'].values.reshape(-1, 1)\n",
        "salinity = data['Salinity'].values.reshape(-1,1 )\n",
        "precipitation = data['Precipitation'].values.reshape(-1, 1)"
      ]
    },
    {
      "cell_type": "markdown",
      "metadata": {
        "id": "OqvQJnWGDlTX"
      },
      "source": [
        "Normalize data"
      ]
    },
    {
      "cell_type": "code",
      "execution_count": null,
      "metadata": {
        "id": "44ql69dtCqhB"
      },
      "outputs": [],
      "source": [
        "scaler_X = MinMaxScaler()\n",
        "X = scaler_X.fit_transform(X)\n",
        "\n",
        "scaler_y = MinMaxScaler()\n",
        "y = scaler_y.fit_transform(y)\n",
        "\n",
        "scaler_evap = MinMaxScaler()\n",
        "evap = scaler_evap.fit_transform(evap)\n",
        "\n",
        "scaler_salinity = MinMaxScaler()\n",
        "salinity = scaler_salinity.fit_transform(salinity)\n",
        "\n",
        "scaler_precipitation = MinMaxScaler()\n",
        "precipitation = scaler_precipitation.fit_transform(precipitation)"
      ]
    },
    {
      "cell_type": "markdown",
      "metadata": {
        "id": "f5Vsb57JDqu-"
      },
      "source": [
        "Combine X and evap, salinity, and precipitation data"
      ]
    },
    {
      "cell_type": "code",
      "execution_count": null,
      "metadata": {
        "id": "PJ2unFwLCuLE"
      },
      "outputs": [],
      "source": [
        "X = np.concatenate((X, evap, salinity, precipitation), axis=1)"
      ]
    },
    {
      "cell_type": "markdown",
      "metadata": {
        "id": "jTCo-z7WDrsJ"
      },
      "source": [
        "Split data into training and testing sets"
      ]
    },
    {
      "cell_type": "code",
      "execution_count": null,
      "metadata": {
        "id": "Tsh5nGHwCxCF"
      },
      "outputs": [],
      "source": [
        "split = int(0.9* len(data))\n",
        "X_train, y_train = X[:split], y[:split]\n",
        "X_test, y_test = X[split:], y[split:]\n"
      ]
    },
    {
      "cell_type": "markdown",
      "metadata": {
        "id": "C6eeRKFKDxHd"
      },
      "source": [
        "Define MLP model with ReLU activation"
      ]
    },
    {
      "cell_type": "code",
      "execution_count": null,
      "metadata": {
        "id": "8xkTCptvCzkB"
      },
      "outputs": [],
      "source": [
        "model = Sequential()\n",
        "model.add(Dense(64, input_dim=X.shape[1], activation='relu'))\n",
        "model.add(Dense(32, activation='relu'))\n",
        "model.add(Dense(1,  activation='linear'))"
      ]
    },
    {
      "cell_type": "code",
      "execution_count": null,
      "metadata": {
        "id": "Bh_zR5FmC2eS"
      },
      "outputs": [],
      "source": [
        "model.compile(loss='mean_squared_error', optimizer='adam')"
      ]
    },
    {
      "cell_type": "markdown",
      "metadata": {
        "id": "umRUgfzLD7YU"
      },
      "source": [
        "Train model"
      ]
    },
    {
      "cell_type": "code",
      "execution_count": null,
      "metadata": {
        "colab": {
          "base_uri": "https://localhost:8080/"
        },
        "id": "9AkIU_UJC5J6",
        "outputId": "f024fc9b-f585-470f-dcb2-babb23d82b15"
      },
      "outputs": [
        {
          "output_type": "stream",
          "name": "stdout",
          "text": [
            "Epoch 1/100\n",
            "6/6 [==============================] - 1s 30ms/step - loss: 0.1753 - val_loss: 0.0539\n",
            "Epoch 2/100\n",
            "6/6 [==============================] - 0s 8ms/step - loss: 0.0341 - val_loss: 0.0017\n",
            "Epoch 3/100\n",
            "6/6 [==============================] - 0s 8ms/step - loss: 0.0077 - val_loss: 0.0097\n",
            "Epoch 4/100\n",
            "6/6 [==============================] - 0s 8ms/step - loss: 0.0128 - val_loss: 0.0107\n",
            "Epoch 5/100\n",
            "6/6 [==============================] - 0s 8ms/step - loss: 0.0100 - val_loss: 0.0034\n",
            "Epoch 6/100\n",
            "6/6 [==============================] - 0s 8ms/step - loss: 0.0052 - val_loss: 6.9917e-04\n",
            "Epoch 7/100\n",
            "6/6 [==============================] - 0s 8ms/step - loss: 0.0050 - val_loss: 0.0010\n",
            "Epoch 8/100\n",
            "6/6 [==============================] - 0s 8ms/step - loss: 0.0054 - val_loss: 9.2154e-04\n",
            "Epoch 9/100\n",
            "6/6 [==============================] - 0s 9ms/step - loss: 0.0049 - val_loss: 5.7650e-04\n",
            "Epoch 10/100\n",
            "6/6 [==============================] - 0s 9ms/step - loss: 0.0045 - val_loss: 6.8884e-04\n",
            "Epoch 11/100\n",
            "6/6 [==============================] - 0s 8ms/step - loss: 0.0045 - val_loss: 7.1583e-04\n",
            "Epoch 12/100\n",
            "6/6 [==============================] - 0s 11ms/step - loss: 0.0045 - val_loss: 6.0135e-04\n",
            "Epoch 13/100\n",
            "6/6 [==============================] - 0s 9ms/step - loss: 0.0044 - val_loss: 5.4304e-04\n",
            "Epoch 14/100\n",
            "6/6 [==============================] - 0s 8ms/step - loss: 0.0044 - val_loss: 5.3644e-04\n",
            "Epoch 15/100\n",
            "6/6 [==============================] - 0s 8ms/step - loss: 0.0044 - val_loss: 5.4524e-04\n",
            "Epoch 16/100\n",
            "6/6 [==============================] - 0s 8ms/step - loss: 0.0043 - val_loss: 5.6104e-04\n",
            "Epoch 17/100\n",
            "6/6 [==============================] - 0s 8ms/step - loss: 0.0043 - val_loss: 5.6178e-04\n",
            "Epoch 18/100\n",
            "6/6 [==============================] - 0s 9ms/step - loss: 0.0043 - val_loss: 5.3849e-04\n",
            "Epoch 19/100\n",
            "6/6 [==============================] - 0s 9ms/step - loss: 0.0042 - val_loss: 5.1996e-04\n",
            "Epoch 20/100\n",
            "6/6 [==============================] - 0s 9ms/step - loss: 0.0042 - val_loss: 5.1494e-04\n",
            "Epoch 21/100\n",
            "6/6 [==============================] - 0s 8ms/step - loss: 0.0042 - val_loss: 5.5106e-04\n",
            "Epoch 22/100\n",
            "6/6 [==============================] - 0s 8ms/step - loss: 0.0041 - val_loss: 5.4538e-04\n",
            "Epoch 23/100\n",
            "6/6 [==============================] - 0s 8ms/step - loss: 0.0041 - val_loss: 5.9858e-04\n",
            "Epoch 24/100\n",
            "6/6 [==============================] - 0s 9ms/step - loss: 0.0041 - val_loss: 5.7378e-04\n",
            "Epoch 25/100\n",
            "6/6 [==============================] - 0s 8ms/step - loss: 0.0041 - val_loss: 6.0624e-04\n",
            "Epoch 26/100\n",
            "6/6 [==============================] - 0s 9ms/step - loss: 0.0040 - val_loss: 6.3420e-04\n",
            "Epoch 27/100\n",
            "6/6 [==============================] - 0s 9ms/step - loss: 0.0040 - val_loss: 6.3786e-04\n",
            "Epoch 28/100\n",
            "6/6 [==============================] - 0s 9ms/step - loss: 0.0040 - val_loss: 6.2935e-04\n",
            "Epoch 29/100\n",
            "6/6 [==============================] - 0s 10ms/step - loss: 0.0040 - val_loss: 6.0769e-04\n",
            "Epoch 30/100\n",
            "6/6 [==============================] - 0s 9ms/step - loss: 0.0039 - val_loss: 6.5526e-04\n",
            "Epoch 31/100\n",
            "6/6 [==============================] - 0s 9ms/step - loss: 0.0040 - val_loss: 7.0829e-04\n",
            "Epoch 32/100\n",
            "6/6 [==============================] - 0s 8ms/step - loss: 0.0039 - val_loss: 6.6046e-04\n",
            "Epoch 33/100\n",
            "6/6 [==============================] - 0s 8ms/step - loss: 0.0039 - val_loss: 6.4262e-04\n",
            "Epoch 34/100\n",
            "6/6 [==============================] - 0s 11ms/step - loss: 0.0039 - val_loss: 6.7388e-04\n",
            "Epoch 35/100\n",
            "6/6 [==============================] - 0s 8ms/step - loss: 0.0038 - val_loss: 6.9356e-04\n",
            "Epoch 36/100\n",
            "6/6 [==============================] - 0s 8ms/step - loss: 0.0038 - val_loss: 7.1938e-04\n",
            "Epoch 37/100\n",
            "6/6 [==============================] - 0s 10ms/step - loss: 0.0039 - val_loss: 6.9015e-04\n",
            "Epoch 38/100\n",
            "6/6 [==============================] - 0s 8ms/step - loss: 0.0038 - val_loss: 7.5104e-04\n",
            "Epoch 39/100\n",
            "6/6 [==============================] - 0s 8ms/step - loss: 0.0038 - val_loss: 7.2269e-04\n",
            "Epoch 40/100\n",
            "6/6 [==============================] - 0s 8ms/step - loss: 0.0038 - val_loss: 6.8647e-04\n",
            "Epoch 41/100\n",
            "6/6 [==============================] - 0s 8ms/step - loss: 0.0037 - val_loss: 7.2893e-04\n",
            "Epoch 42/100\n",
            "6/6 [==============================] - 0s 8ms/step - loss: 0.0037 - val_loss: 7.5149e-04\n",
            "Epoch 43/100\n",
            "6/6 [==============================] - 0s 8ms/step - loss: 0.0038 - val_loss: 7.7946e-04\n",
            "Epoch 44/100\n",
            "6/6 [==============================] - 0s 8ms/step - loss: 0.0037 - val_loss: 7.3304e-04\n",
            "Epoch 45/100\n",
            "6/6 [==============================] - 0s 8ms/step - loss: 0.0037 - val_loss: 7.8331e-04\n",
            "Epoch 46/100\n",
            "6/6 [==============================] - 0s 8ms/step - loss: 0.0037 - val_loss: 7.5738e-04\n",
            "Epoch 47/100\n",
            "6/6 [==============================] - 0s 9ms/step - loss: 0.0037 - val_loss: 7.3556e-04\n",
            "Epoch 48/100\n",
            "6/6 [==============================] - 0s 9ms/step - loss: 0.0036 - val_loss: 7.2824e-04\n",
            "Epoch 49/100\n",
            "6/6 [==============================] - 0s 13ms/step - loss: 0.0036 - val_loss: 7.9280e-04\n",
            "Epoch 50/100\n",
            "6/6 [==============================] - 0s 8ms/step - loss: 0.0036 - val_loss: 8.2510e-04\n",
            "Epoch 51/100\n",
            "6/6 [==============================] - 0s 9ms/step - loss: 0.0036 - val_loss: 8.2448e-04\n",
            "Epoch 52/100\n",
            "6/6 [==============================] - 0s 8ms/step - loss: 0.0036 - val_loss: 8.4980e-04\n",
            "Epoch 53/100\n",
            "6/6 [==============================] - 0s 9ms/step - loss: 0.0036 - val_loss: 8.2959e-04\n",
            "Epoch 54/100\n",
            "6/6 [==============================] - 0s 8ms/step - loss: 0.0036 - val_loss: 8.5088e-04\n",
            "Epoch 55/100\n",
            "6/6 [==============================] - 0s 9ms/step - loss: 0.0035 - val_loss: 7.9347e-04\n",
            "Epoch 56/100\n",
            "6/6 [==============================] - 0s 8ms/step - loss: 0.0035 - val_loss: 8.2114e-04\n",
            "Epoch 57/100\n",
            "6/6 [==============================] - 0s 9ms/step - loss: 0.0036 - val_loss: 7.7418e-04\n",
            "Epoch 58/100\n",
            "6/6 [==============================] - 0s 11ms/step - loss: 0.0035 - val_loss: 8.6630e-04\n",
            "Epoch 59/100\n",
            "6/6 [==============================] - 0s 7ms/step - loss: 0.0035 - val_loss: 8.6111e-04\n",
            "Epoch 60/100\n",
            "6/6 [==============================] - 0s 8ms/step - loss: 0.0035 - val_loss: 8.7923e-04\n",
            "Epoch 61/100\n",
            "6/6 [==============================] - 0s 22ms/step - loss: 0.0035 - val_loss: 8.7622e-04\n",
            "Epoch 62/100\n",
            "6/6 [==============================] - 0s 18ms/step - loss: 0.0035 - val_loss: 8.1211e-04\n",
            "Epoch 63/100\n",
            "6/6 [==============================] - 0s 14ms/step - loss: 0.0035 - val_loss: 8.9543e-04\n",
            "Epoch 64/100\n",
            "6/6 [==============================] - 0s 23ms/step - loss: 0.0034 - val_loss: 8.9491e-04\n",
            "Epoch 65/100\n",
            "6/6 [==============================] - 0s 24ms/step - loss: 0.0035 - val_loss: 9.7463e-04\n",
            "Epoch 66/100\n",
            "6/6 [==============================] - 0s 13ms/step - loss: 0.0034 - val_loss: 9.3225e-04\n",
            "Epoch 67/100\n",
            "6/6 [==============================] - 0s 17ms/step - loss: 0.0034 - val_loss: 8.9310e-04\n",
            "Epoch 68/100\n",
            "6/6 [==============================] - 0s 16ms/step - loss: 0.0034 - val_loss: 8.7229e-04\n",
            "Epoch 69/100\n",
            "6/6 [==============================] - 0s 14ms/step - loss: 0.0034 - val_loss: 8.9303e-04\n",
            "Epoch 70/100\n",
            "6/6 [==============================] - 0s 12ms/step - loss: 0.0034 - val_loss: 9.0453e-04\n",
            "Epoch 71/100\n",
            "6/6 [==============================] - 0s 18ms/step - loss: 0.0034 - val_loss: 9.6186e-04\n",
            "Epoch 72/100\n",
            "6/6 [==============================] - 0s 12ms/step - loss: 0.0034 - val_loss: 0.0010\n",
            "Epoch 73/100\n",
            "6/6 [==============================] - 0s 27ms/step - loss: 0.0033 - val_loss: 9.5336e-04\n",
            "Epoch 74/100\n",
            "6/6 [==============================] - 0s 14ms/step - loss: 0.0034 - val_loss: 8.7164e-04\n",
            "Epoch 75/100\n",
            "6/6 [==============================] - 0s 12ms/step - loss: 0.0034 - val_loss: 0.0010\n",
            "Epoch 76/100\n",
            "6/6 [==============================] - 0s 17ms/step - loss: 0.0033 - val_loss: 8.9398e-04\n",
            "Epoch 77/100\n",
            "6/6 [==============================] - 0s 16ms/step - loss: 0.0033 - val_loss: 9.3486e-04\n",
            "Epoch 78/100\n",
            "6/6 [==============================] - 0s 19ms/step - loss: 0.0033 - val_loss: 9.3973e-04\n",
            "Epoch 79/100\n",
            "6/6 [==============================] - 0s 15ms/step - loss: 0.0033 - val_loss: 9.5448e-04\n",
            "Epoch 80/100\n",
            "6/6 [==============================] - 0s 19ms/step - loss: 0.0033 - val_loss: 0.0010\n",
            "Epoch 81/100\n",
            "6/6 [==============================] - 0s 23ms/step - loss: 0.0033 - val_loss: 0.0010\n",
            "Epoch 82/100\n",
            "6/6 [==============================] - 0s 15ms/step - loss: 0.0033 - val_loss: 9.8371e-04\n",
            "Epoch 83/100\n",
            "6/6 [==============================] - 0s 20ms/step - loss: 0.0033 - val_loss: 9.8242e-04\n",
            "Epoch 84/100\n",
            "6/6 [==============================] - 0s 33ms/step - loss: 0.0032 - val_loss: 9.7020e-04\n",
            "Epoch 85/100\n",
            "6/6 [==============================] - 0s 15ms/step - loss: 0.0033 - val_loss: 0.0010\n",
            "Epoch 86/100\n",
            "6/6 [==============================] - 0s 15ms/step - loss: 0.0032 - val_loss: 9.8245e-04\n",
            "Epoch 87/100\n",
            "6/6 [==============================] - 0s 13ms/step - loss: 0.0033 - val_loss: 0.0011\n",
            "Epoch 88/100\n",
            "6/6 [==============================] - 0s 12ms/step - loss: 0.0032 - val_loss: 0.0010\n",
            "Epoch 89/100\n",
            "6/6 [==============================] - 0s 19ms/step - loss: 0.0032 - val_loss: 0.0011\n",
            "Epoch 90/100\n",
            "6/6 [==============================] - 0s 19ms/step - loss: 0.0032 - val_loss: 0.0010\n",
            "Epoch 91/100\n",
            "6/6 [==============================] - 0s 12ms/step - loss: 0.0032 - val_loss: 0.0010\n",
            "Epoch 92/100\n",
            "6/6 [==============================] - 0s 15ms/step - loss: 0.0032 - val_loss: 0.0011\n",
            "Epoch 93/100\n",
            "6/6 [==============================] - 0s 13ms/step - loss: 0.0032 - val_loss: 9.4883e-04\n",
            "Epoch 94/100\n",
            "6/6 [==============================] - 0s 23ms/step - loss: 0.0032 - val_loss: 0.0011\n",
            "Epoch 95/100\n",
            "6/6 [==============================] - 0s 27ms/step - loss: 0.0032 - val_loss: 0.0011\n",
            "Epoch 96/100\n",
            "6/6 [==============================] - 0s 36ms/step - loss: 0.0031 - val_loss: 0.0010\n",
            "Epoch 97/100\n",
            "6/6 [==============================] - 0s 30ms/step - loss: 0.0032 - val_loss: 9.3220e-04\n",
            "Epoch 98/100\n",
            "6/6 [==============================] - 0s 28ms/step - loss: 0.0032 - val_loss: 0.0011\n",
            "Epoch 99/100\n",
            "6/6 [==============================] - 0s 28ms/step - loss: 0.0031 - val_loss: 0.0010\n",
            "Epoch 100/100\n",
            "6/6 [==============================] - 0s 26ms/step - loss: 0.0032 - val_loss: 0.0011\n"
          ]
        }
      ],
      "source": [
        "history = model.fit(X_train, y_train, epochs=100, batch_size=32, validation_data=(X_test, y_test))"
      ]
    },
    {
      "cell_type": "markdown",
      "metadata": {
        "id": "ToT5q6mmD-nT"
      },
      "source": [
        "Evaluate model on training set"
      ]
    },
    {
      "cell_type": "code",
      "execution_count": null,
      "metadata": {
        "colab": {
          "base_uri": "https://localhost:8080/"
        },
        "id": "qkzDemiiC_MM",
        "outputId": "8dbcf918-fd20-4213-8ada-67b743365c62"
      },
      "outputs": [
        {
          "output_type": "stream",
          "name": "stdout",
          "text": [
            "Training loss: 0.003106215037405491\n"
          ]
        }
      ],
      "source": [
        "train_score = model.evaluate(X_train, y_train, verbose=0)\n",
        "print('Training loss:', train_score)"
      ]
    },
    {
      "cell_type": "markdown",
      "metadata": {
        "id": "fqL1THXFEA-T"
      },
      "source": [
        "Evaluate model on testing set"
      ]
    },
    {
      "cell_type": "code",
      "execution_count": null,
      "metadata": {
        "colab": {
          "base_uri": "https://localhost:8080/"
        },
        "id": "4DRmNPAcDDDk",
        "outputId": "daacf768-2793-4116-ac2b-729dab43f490"
      },
      "outputs": [
        {
          "output_type": "stream",
          "name": "stdout",
          "text": [
            "Testing loss: 0.001120271859690547\n"
          ]
        }
      ],
      "source": [
        "test_score = model.evaluate(X_test, y_test, verbose=0)\n",
        "print('Testing loss:', test_score)\n"
      ]
    },
    {
      "cell_type": "markdown",
      "metadata": {
        "id": "98f1soL6ED00"
      },
      "source": [
        "Make predictions"
      ]
    },
    {
      "cell_type": "code",
      "execution_count": null,
      "metadata": {
        "colab": {
          "base_uri": "https://localhost:8080/"
        },
        "id": "XIyxaU1RDGde",
        "outputId": "a9c1261a-caf4-4cd9-8d8b-c0354e715508"
      },
      "outputs": [
        {
          "output_type": "stream",
          "name": "stdout",
          "text": [
            "1/1 [==============================] - 0s 264ms/step\n"
          ]
        }
      ],
      "source": [
        "y_test *= 1000\n",
        "y_test += 35\n",
        "predictions = scaler_y.inverse_transform(model.predict(X_test))"
      ]
    },
    {
      "cell_type": "markdown",
      "metadata": {
        "id": "ccxhkZvIEGIs"
      },
      "source": [
        "Plot predictions against actual values"
      ]
    },
    {
      "cell_type": "code",
      "execution_count": null,
      "metadata": {
        "id": "yg-fAVL3DKHb",
        "colab": {
          "base_uri": "https://localhost:8080/",
          "height": 452
        },
        "outputId": "64e2af77-88a1-475d-c24e-04806817f463"
      },
      "outputs": [
        {
          "output_type": "display_data",
          "data": {
            "text/plain": [
              "<Figure size 640x480 with 1 Axes>"
            ],
            "image/png": "[encoded data removed]"
          },
          "metadata": {}
        }
      ],
      "source": [
        "import matplotlib.pyplot as plt\n",
        "plt.plot(y_test, label='Actual')\n",
        "plt.plot(predictions, label='Predicted')\n",
        "plt.xlim(0,22)\n",
        "plt.ylim(0,500)\n",
        "plt.ylabel(\"Water Level(m)\")\n",
        "plt.title(\"Actual vs Predicted\")\n",
        "plt.legend()\n",
        "plt.show()\n"
      ]
    },
    {
      "cell_type": "markdown",
      "metadata": {
        "id": "zFlogBSREI6x"
      },
      "source": [
        "Plot loss curves for training and testing sets"
      ]
    },
    {
      "cell_type": "code",
      "execution_count": null,
      "metadata": {
        "id": "St_1kLvkDPTr",
        "colab": {
          "base_uri": "https://localhost:8080/",
          "height": 472
        },
        "outputId": "b0cec829-c1d9-446c-ab67-7a4976ced648"
      },
      "outputs": [
        {
          "output_type": "display_data",
          "data": {
            "text/plain": [
              "<Figure size 640x480 with 1 Axes>"
            ],
            "image/png": "[encoded data removed]"
          },
          "metadata": {}
        }
      ],
      "source": [
        "plt.plot(history.history['loss'], label='Training Loss')\n",
        "plt.plot(history.history['val_loss'], label='Testing Loss')\n",
        "plt.xlabel(\"No. of Epoch\")\n",
        "plt.title(\"Training vs Testing\")\n",
        "plt.legend()\n",
        "plt.show()\n"
      ]
    }
  ],
  "metadata": {
    "colab": {
      "provenance": [],
      "include_colab_link": true
    },
    "kernelspec": {
      "display_name": "Python 3",
      "name": "python3"
    },
    "language_info": {
      "name": "python"
    }
  },
  "nbformat": 4,
  "nbformat_minor": 0
}